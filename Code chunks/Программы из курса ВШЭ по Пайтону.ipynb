{
 "cells": [
  {
   "cell_type": "markdown",
   "id": "7d3d6033",
   "metadata": {},
   "source": [
    "Ввод секунд и перевод во время c нулями перед одинарными цифрами"
   ]
  },
  {
   "cell_type": "code",
   "execution_count": 1,
   "id": "d1eb1ad1",
   "metadata": {},
   "outputs": [
    {
     "name": "stdout",
     "output_type": "stream",
     "text": [
      "64\n",
      "00:01:04\n"
     ]
    }
   ],
   "source": [
    "N = int(input())\n",
    "sec = N % 60\n",
    "min = (N // 60) % 60\n",
    "hours = (N // 3600) // 24\n",
    "days = (N // 3600) % 24\n",
    "print(hours // 10, hours % 10, ':', min // 10, min % 10, ':', sec // 10, sec % 10, sep='')"
   ]
  },
  {
   "cell_type": "markdown",
   "id": "eab1c5d6",
   "metadata": {},
   "source": [
    "Подсчет разницы в секундах"
   ]
  },
  {
   "cell_type": "code",
   "execution_count": 2,
   "id": "cd11fb13",
   "metadata": {},
   "outputs": [
    {
     "name": "stdout",
     "output_type": "stream",
     "text": [
      "20\n",
      "30\n",
      "20\n",
      "30\n",
      "20\n",
      "10\n",
      "35390\n"
     ]
    }
   ],
   "source": [
    "hour1 = int(input())\n",
    "min1 = int(input())\n",
    "sec1 = int(input())\n",
    "hour2 = int(input())\n",
    "min2 = int(input())\n",
    "sec2 = int(input())\n",
    "seconds1 = hour1 * 3600 + min1 * 60 + sec1\n",
    "seconds2 = hour2 * 3600 + min2 * 60 + sec2\n",
    "diff_sec = seconds2 - seconds1\n",
    "print(diff_sec)"
   ]
  },
  {
   "cell_type": "markdown",
   "id": "d2c1a851",
   "metadata": {},
   "source": [
    "Улитка ползет вверх и сползает вниз"
   ]
  },
  {
   "cell_type": "code",
   "execution_count": null,
   "id": "45a1d32d",
   "metadata": {},
   "outputs": [],
   "source": [
    "H = int(input())\n",
    "A = int(input())\n",
    "B = int(input())\n",
    "penUlt = H - A\n",
    "step = A - B\n",
    "print((penUlt + step - 1) // step + 1)"
   ]
  },
  {
   "cell_type": "markdown",
   "id": "0ae7ba9a",
   "metadata": {},
   "source": [
    "Определение того, является ли 4-х значное число симметричным"
   ]
  },
  {
   "cell_type": "code",
   "execution_count": null,
   "id": "d38e785b",
   "metadata": {},
   "outputs": [],
   "source": [
    "B = int(input())\n",
    "sign1 = B % 10\n",
    "sign10 = (B // 10) % 10\n",
    "sign100 = (B // 100) % 10\n",
    "sign1000 = (B // 1000) % 10\n",
    "test1 = sign1 - sign1000\n",
    "test2 = sign10 - sign100\n",
    "print((test1 * test2 + 1) * (test1 + test2 + 1))"
   ]
  },
  {
   "cell_type": "markdown",
   "id": "46e52fa3",
   "metadata": {},
   "source": [
    "Поиск большего числа из двух\n",
    "при помощи математических операций"
   ]
  },
  {
   "cell_type": "code",
   "execution_count": null,
   "id": "e1870d02",
   "metadata": {},
   "outputs": [],
   "source": [
    "A = int(input())\n",
    "B = int(input())\n",
    "A = int(input())\n",
    "B = int(input())\n",
    "print(0 ** (0 ** (0 ** (B // A) + 0 ** (A % B))) * A + 0 ** (A // B) * B)"
   ]
  },
  {
   "cell_type": "markdown",
   "id": "92d06fd5",
   "metadata": {},
   "source": [
    "Поиск большего числа из двух\n",
    "при помощи логических операций"
   ]
  },
  {
   "cell_type": "code",
   "execution_count": null,
   "id": "76ddb5f5",
   "metadata": {},
   "outputs": [],
   "source": [
    "x = int(input())\n",
    "y = int(input())\n",
    "if x >= y:\n",
    "\tmax = x\n",
    "else:\n",
    "\tmax = y\n",
    "print(max)"
   ]
  },
  {
   "cell_type": "markdown",
   "id": "b9481348",
   "metadata": {},
   "source": [
    "Проверка делимости нацело чисел"
   ]
  },
  {
   "cell_type": "code",
   "execution_count": null,
   "id": "a3499476",
   "metadata": {},
   "outputs": [],
   "source": [
    "A = int(input())\n",
    "B = int(input())\n",
    "print(0 ** (A % B) * 'Yes' + (1 - 0 ** (A % B)) * 'No')"
   ]
  },
  {
   "cell_type": "markdown",
   "id": "fbcb3f97",
   "metadata": {},
   "source": [
    "Проверка числа на четность при помощи математических операций"
   ]
  },
  {
   "cell_type": "code",
   "execution_count": null,
   "id": "053a48ca",
   "metadata": {},
   "outputs": [],
   "source": [
    "n = int(input())\n",
    "print(0 ** (n % 2) * 'Yes' + n % 2 * 'No') "
   ]
  },
  {
   "cell_type": "markdown",
   "id": "0ff75dea",
   "metadata": {},
   "source": [
    "Проверка числа на четность при помощи логических операций"
   ]
  },
  {
   "cell_type": "code",
   "execution_count": null,
   "id": "3517eb81",
   "metadata": {},
   "outputs": [],
   "source": [
    "n = int(input())\n",
    "isEven = n % 2 == 0\n",
    "print(isEven)"
   ]
  },
  {
   "cell_type": "markdown",
   "id": "87d28b21",
   "metadata": {},
   "source": [
    "Вывод модуля"
   ]
  },
  {
   "cell_type": "code",
   "execution_count": null,
   "id": "db2b69dd",
   "metadata": {},
   "outputs": [],
   "source": [
    "```python\n",
    "x = int(input())\n",
    "if x >= 0:\n",
    "\tprint(x)\n",
    "else:\n",
    "\tprint(-x)\n",
    "```"
   ]
  },
  {
   "cell_type": "markdown",
   "id": "e1307eb7",
   "metadata": {},
   "source": [
    "Возможность отколоть кусочек плитки от плитки размером"
   ]
  },
  {
   "cell_type": "code",
   "execution_count": null,
   "id": "827cb05d",
   "metadata": {},
   "outputs": [],
   "source": [
    "n = int(input())\n",
    "m = int(input())\n",
    "k = int(input())\n",
    "if k % n == 0 and k // n <= m:\n",
    "\tprint('Yes')\n",
    "elif k % m == 0 and k // m <= n:\n",
    "\tprint('Yes')\n",
    "else:\n",
    "\tprint('No')"
   ]
  },
  {
   "cell_type": "markdown",
   "id": "191d4ed0",
   "metadata": {},
   "source": [
    "Склонение слов в зависимости от числительного"
   ]
  },
  {
   "cell_type": "code",
   "execution_count": null,
   "id": "51ce3e91",
   "metadata": {},
   "outputs": [],
   "source": [
    "n = int(input())\n",
    "if n % 10 == 1:\n",
    "if n // 10 == 1:\n",
    "\tprint(n, 'korov')\n",
    "else:\n",
    "\tprint(n, 'korova')\n",
    "elif n % 10 >= 2 and n % 10 <= 4:\n",
    "\tif n // 10 == 1:\n",
    "\t\tprint(n, 'korov')\n",
    "\telse:\n",
    "\t\tprint(n, 'korovy')\n",
    "\telse:\n",
    "\t\tprint(n, 'korov')"
   ]
  },
  {
   "cell_type": "markdown",
   "id": "e16e69c8",
   "metadata": {},
   "source": [
    "Проверка того, находятся ли две точки в одном квадранте"
   ]
  },
  {
   "cell_type": "code",
   "execution_count": null,
   "id": "068bce7a",
   "metadata": {},
   "outputs": [],
   "source": [
    "x1 = int(input())\n",
    "y1 = int(input())\n",
    "x2 = int(input())\n",
    "y2 = int(input())\n",
    "\n",
    "\n",
    "\n",
    "if x1 > 0 and x2 > 0:\n",
    "    if y1 > 0 and y2 > 0:\n",
    "        print('Yes')\n",
    "    elif y1 < 0 and y2 < 0:\n",
    "        print('Yes')\n",
    "    else:\n",
    "        print('No')\n",
    "elif x1 < 0 and x2 < 0:\n",
    "    if y1 > 0 and y2 > 0:\n",
    "        print('Yes')\n",
    "    elif y1 < 0 and y2 < 0:\n",
    "        print('Yes')\n",
    "    else:\n",
    "        print('No')\n",
    "else:\n",
    "    print('No')"
   ]
  },
  {
   "cell_type": "markdown",
   "id": "0b06efaa",
   "metadata": {},
   "source": [
    "Проверка того, можно ли ходить в шашках обычной фигуре с первой на вторую клетку c ходом в 1"
   ]
  },
  {
   "cell_type": "code",
   "execution_count": null,
   "id": "c7d5625e",
   "metadata": {},
   "outputs": [],
   "source": [
    "x1 = int(input())\n",
    "y1 = int(input())\n",
    "x2 = int(input())\n",
    "y2 = int(input())\n",
    "\n",
    "delta_x = x2 - x1 # может быть и отрицательным и положительным, но равно по модулю 1\n",
    "if delta_x < 0:\n",
    "    delta_x = - delta_x\n",
    "delta_y = y2 - y1 # может быть положительным и равно по модулю 1\n",
    "if delta_x == 1:\n",
    "    if delta_y == 1:\n",
    "        print('Yes')\n",
    "    else:\n",
    "        print('No')\n",
    "else:\n",
    "    print('No')"
   ]
  },
  {
   "cell_type": "markdown",
   "id": "120d2981",
   "metadata": {},
   "source": [
    "Проверка того, можно ли ходить в шашках обычной фигуре с первой на вторую клетку"
   ]
  },
  {
   "cell_type": "code",
   "execution_count": null,
   "id": "bf54201b",
   "metadata": {},
   "outputs": [],
   "source": [
    "x1 = int(input())\n",
    "y1 = int(input())\n",
    "x2 = int(input())\n",
    "y2 = int(input())\n",
    "\n",
    "delta_x = x2 - x1\n",
    "if delta_x < 0:\n",
    "    delta_x = - delta_x\n",
    "delta_y = y2 - y1\n",
    "if (delta_x + delta_y) > 0 and (delta_x + delta_y) % 2 == 0:\n",
    "    print('YES')\n",
    "else:\n",
    "    print('NO')"
   ]
  },
  {
   "cell_type": "markdown",
   "id": "27136902",
   "metadata": {},
   "source": [
    "Проверка треугольника на тип по углам"
   ]
  },
  {
   "cell_type": "code",
   "execution_count": null,
   "id": "3803897c",
   "metadata": {},
   "outputs": [],
   "source": [
    "a = int(input())\n",
    "b = int(input())\n",
    "c = int(input())\n",
    "\n",
    "cosA = (c ** 2 + b ** 2 - a ** 2) / (2 * c * b)\n",
    "cosB = (a ** 2 + c ** 2 - b ** 2) / (2 * a * c)\n",
    "cosC = (a ** 2 + b ** 2 - c ** 2) / (2 * a * b)\n",
    "\n",
    "if a + b <= c or a >= b + c or b >= a + c:\n",
    "    print('impossible')\n",
    "elif cosA == 0 or cosB == 0 or cosC == 0:\n",
    "    print('rectangular')\n",
    "elif cosA > 0 and cosA <1 and cosB > 0 and cosB <1 and cosC > 0 and cosC <1:\n",
    "    print('acute')\n",
    "elif cosA < 0 or cosB < 0 or cosC < 0:\n",
    "    print('obtuse')"
   ]
  },
  {
   "cell_type": "markdown",
   "id": "36b4e2f9",
   "metadata": {},
   "source": [
    "Поиск наименьшего делителя числа"
   ]
  },
  {
   "cell_type": "code",
   "execution_count": null,
   "id": "78087cee",
   "metadata": {},
   "outputs": [],
   "source": [
    "N = int(input())\n",
    "i = 1\n",
    "\n",
    "div = N / i\n",
    "\n",
    "while i < N:\n",
    "    i = i + 1\n",
    "    if N % i == 0 and N / i > 1:\n",
    "        div = N / i\n",
    "print(int(div))"
   ]
  },
  {
   "cell_type": "markdown",
   "id": "b584cb8a",
   "metadata": {},
   "source": [
    "Поиск наименьшего делителя числа"
   ]
  },
  {
   "cell_type": "code",
   "execution_count": null,
   "id": "376612a2",
   "metadata": {},
   "outputs": [],
   "source": [
    "def MinDivisor(n):\n",
    "    i = 2\n",
    "    while i < n ** 0.5 and n % i != 0:\n",
    "        i += 1\n",
    "    if n % i != 0:\n",
    "        return n\n",
    "    return i\n",
    "\n",
    "N = int(input())\n",
    "print(int(MinDivisor(N)))"
   ]
  },
  {
   "cell_type": "markdown",
   "id": "4e4fc644",
   "metadata": {},
   "source": [
    "Поиск всех делителей числа"
   ]
  },
  {
   "cell_type": "code",
   "execution_count": null,
   "id": "7599a633",
   "metadata": {},
   "outputs": [],
   "source": [
    "N = int(input())\n",
    "i = 1\n",
    "\n",
    "div = N / i\n",
    "\n",
    "while i < N:\n",
    "    i = i + 1\n",
    "    if N % i == 0 and N / i > 1:\n",
    "        div = N / i\n",
    "\tprint(int(div))"
   ]
  },
  {
   "cell_type": "markdown",
   "id": "c0dcc35c",
   "metadata": {},
   "source": [
    "Проверка, является ли число степенью другого числа"
   ]
  },
  {
   "cell_type": "code",
   "execution_count": null,
   "id": "ef55197d",
   "metadata": {},
   "outputs": [],
   "source": [
    "N = int(input())\n",
    "a = int(input())\n",
    "\n",
    "while N > 1:\n",
    "    N = N / a\n",
    "if N == 1:\n",
    "    print('Yes')\n",
    "else:\n",
    "    print('No')"
   ]
  },
  {
   "cell_type": "markdown",
   "id": "77ed7a15",
   "metadata": {},
   "source": [
    "Поиск среднего от последовательности чисел ( 0 - стоп)"
   ]
  },
  {
   "cell_type": "code",
   "execution_count": null,
   "id": "79676d45",
   "metadata": {},
   "outputs": [],
   "source": [
    "n = int(input())\n",
    "s = 0\n",
    "q = 0\n",
    "sr = 0\n",
    "while n != 0: \n",
    "    s += n\n",
    "    q += 1\n",
    "    sr = s / q\n",
    "    n = int(input())\n",
    "print(sr)"
   ]
  },
  {
   "cell_type": "markdown",
   "id": "b9095864",
   "metadata": {},
   "source": [
    "Подсчет количества членов, которые больше предыдущих"
   ]
  },
  {
   "cell_type": "code",
   "execution_count": null,
   "id": "725ae593",
   "metadata": {},
   "outputs": [],
   "source": [
    "n1 = int(input())\n",
    "n2 = int(input())\n",
    "q = 0\n",
    "while n2 != 0:\n",
    "    if n2 > n1:\n",
    "        q += 1\n",
    "    n1 = n2\n",
    "    n2 = int(input())\n",
    "print(q)"
   ]
  },
  {
   "cell_type": "code",
   "execution_count": null,
   "id": "5a98a669",
   "metadata": {},
   "outputs": [],
   "source": [
    "Поиск второго по величине числа в последовательности"
   ]
  },
  {
   "cell_type": "code",
   "execution_count": null,
   "id": "89e69d6e",
   "metadata": {},
   "outputs": [],
   "source": [
    "num1 = int(input())\n",
    "num2 = int(input())\n",
    "first_max = num2\n",
    "sec_max = num1\n",
    "if first_max < sec_max:\n",
    "    first_max = num1\n",
    "    sec_max = num2\n",
    "num2 = int(input())\n",
    "while num2 != 0:\n",
    "    if sec_max < num2 <= first_max:\n",
    "        sec_max = num2\n",
    "    elif not num2 <= sec_max and num2 > first_max:\n",
    "        sec_max = first_max\n",
    "        first_max = num2\n",
    "    num2 = int(input())\n",
    "print(sec_max)"
   ]
  },
  {
   "cell_type": "code",
   "execution_count": null,
   "id": "6502e89d",
   "metadata": {},
   "outputs": [],
   "source": [
    "Поиск значения числа фибоначчи по номеру"
   ]
  },
  {
   "cell_type": "code",
   "execution_count": null,
   "id": "cef53a2c",
   "metadata": {},
   "outputs": [],
   "source": [
    "N = int(input())\n",
    "F0 = 0\n",
    "F1 = 1\n",
    "Fn = 0\n",
    "n0 = 0\n",
    "n1 = 1\n",
    "n = 2\n",
    "if N == n0:\n",
    "    Fn = F0\n",
    "elif N == n1:\n",
    "    Fn = F1\n",
    "else:\n",
    "    while n <= N:\n",
    "        Fn = F0 + F1\n",
    "        n += 1\n",
    "        F0 = F1\n",
    "        F1 = Fn\n",
    "print(Fn)"
   ]
  },
  {
   "cell_type": "code",
   "execution_count": null,
   "id": "3989b43f",
   "metadata": {},
   "outputs": [],
   "source": [
    "Определение номера числа в последовательности фибоначчи"
   ]
  },
  {
   "cell_type": "code",
   "execution_count": null,
   "id": "aed06bf1",
   "metadata": {},
   "outputs": [],
   "source": [
    "N = int(input())\n",
    "F0 = 0\n",
    "F1 = 1\n",
    "Fn = 1\n",
    "n0 = 0\n",
    "n1 = 1\n",
    "n = 1\n",
    "if N == F0:\n",
    "    n = n0\n",
    "    Fn = F0\n",
    "elif N == F1:\n",
    "    n = n1\n",
    "    Fn = F1\n",
    "else:\n",
    "    while Fn < N:\n",
    "        Fn = F0 + F1\n",
    "        n += 1\n",
    "        F0 = F1\n",
    "        F1 = Fn\n",
    "if Fn == N:\n",
    "    print(n)\n",
    "else:\n",
    "    print(-1)"
   ]
  },
  {
   "cell_type": "code",
   "execution_count": null,
   "id": "97ec1f1f",
   "metadata": {},
   "outputs": [],
   "source": [
    "Переход от большего числа к меньшему посредством /2 или -1"
   ]
  },
  {
   "cell_type": "code",
   "execution_count": null,
   "id": "d73ad7ad",
   "metadata": {},
   "outputs": [],
   "source": [
    "A = int(input())\n",
    "B = int(input())\n",
    "while A > B:\n",
    "    if A % 2 == 0 and A / 2 >= B:\n",
    "        A = A / 2\n",
    "        print(':2')\n",
    "    else:\n",
    "        A = A - 1\n",
    "        print('-1')"
   ]
  },
  {
   "cell_type": "code",
   "execution_count": null,
   "id": "19fc20a6",
   "metadata": {},
   "outputs": [],
   "source": [
    "Переписать число наоборот"
   ]
  },
  {
   "cell_type": "code",
   "execution_count": null,
   "id": "6ad8ef44",
   "metadata": {},
   "outputs": [],
   "source": [
    "A = int(input())\n",
    "i = 0\n",
    "n = 0\n",
    "N = str()\n",
    "while A != 0:\n",
    "    n = A % 10\n",
    "    A = A // 10\n",
    "    N += str(n)\n",
    "print(int(N))"
   ]
  },
  {
   "cell_type": "code",
   "execution_count": null,
   "id": "567f718f",
   "metadata": {},
   "outputs": [],
   "source": [
    "Подсчет зеркальных чисел не больше числа К"
   ]
  },
  {
   "cell_type": "code",
   "execution_count": null,
   "id": "032cde6d",
   "metadata": {},
   "outputs": [],
   "source": [
    "K = int(input())\n",
    "A = 1\n",
    "B = 1\n",
    "n = 0\n",
    "N = 0\n",
    "Q = 0\n",
    "while A <= K:\n",
    "    while A != 0:\n",
    "        n = A % 10\n",
    "        A = A // 10\n",
    "        N = N * 10 + n\n",
    "    if N == B:\n",
    "        Q += 1\n",
    "    B += 1\n",
    "    A = B\n",
    "    N = 0\n",
    "print(Q)"
   ]
  },
  {
   "cell_type": "markdown",
   "id": "543425b4",
   "metadata": {},
   "source": [
    "Вывод всех зеркальных чисел не больше числа К"
   ]
  },
  {
   "cell_type": "code",
   "execution_count": null,
   "id": "720ff112",
   "metadata": {},
   "outputs": [],
   "source": [
    "K = int(input())\n",
    "A = 1\n",
    "B = 1\n",
    "n = 0\n",
    "N = 0\n",
    "while A <= K:  # условие повторения цикла до достижения значения введенного числа\n",
    "    while A != 0:  # 0 - стоп для повторения цикла \n",
    "        n = A % 10  # отсечение от числе 1 цифры справа, остаток цифра справа\n",
    "        A = A // 10  # отсечение от числе 1 цифры справа, остаток цифры слева\n",
    "        N = N * 10 + n  # запись числа в обратном порядке\n",
    "    if N == B:   # проверка равенства зеркального числа исходному\n",
    "        print(N)\n",
    "    B += 1  # переход к следующему числу \n",
    "    A = B\n",
    "    N = 0  # обнуление отзеркаленного числа"
   ]
  },
  {
   "cell_type": "markdown",
   "id": "56a4a15e",
   "metadata": {},
   "source": [
    "Поиск самой длинной цепочки одинаковых чисел внутри последовательности"
   ]
  },
  {
   "cell_type": "code",
   "execution_count": null,
   "id": "3bbcc85d",
   "metadata": {},
   "outputs": [],
   "source": [
    "n1 = int(input()) \n",
    "n = 0\n",
    "c = 1\n",
    "q = 1\n",
    "while n1 != 0:\n",
    "    if n1 == n:\n",
    "        q += 1\n",
    "    else:\n",
    "        q = 1\n",
    "    if c <= q:\n",
    "        c = q\n",
    "    n = n1\n",
    "    n1 = int(input())\n",
    "print(c)"
   ]
  },
  {
   "cell_type": "markdown",
   "id": "ded568c8",
   "metadata": {},
   "source": [
    "Поиск минимального расстояния между двумя максимумами (не работает полностью)"
   ]
  },
  {
   "cell_type": "code",
   "execution_count": null,
   "id": "f009e4ec",
   "metadata": {},
   "outputs": [],
   "source": [
    "n1 = int(input())\n",
    "n2 = int(input())\n",
    "n3 = int(input())\n",
    "n = 3\n",
    "loc = 0\n",
    "min = 0\n",
    "ifn1 < n2 > n3:\n",
    "    loc = 2\n",
    "    min = loc\n",
    "whilen3 != 0:\n",
    "    n1 = n2\n",
    "    n2 = n3\n",
    "    n3 = int(input())\n",
    "    n += 1\n",
    "ifn1 < n2 > n3:\n",
    "        loc = n# ?\n",
    "ifloc <= min:\n",
    "        min = loc\n",
    "print(min)"
   ]
  },
  {
   "cell_type": "markdown",
   "id": "16de248b",
   "metadata": {},
   "source": [
    "Даны длины сторон треугольника. Вычислите площадь треугольника (Вводятся три положительных действительных числа)."
   ]
  },
  {
   "cell_type": "code",
   "execution_count": null,
   "id": "d453c000",
   "metadata": {},
   "outputs": [],
   "source": [
    "a = float(input())\n",
    "b = float(input())\n",
    "c = float(input())\n",
    "\n",
    "p = (a + b + c) / 2\n",
    "S = (p * (p - a) * (p - b) * (p - c)) ** 0.5\n",
    "print('{0:.6f}'.format(S))"
   ]
  },
  {
   "cell_type": "markdown",
   "id": "9ac526a3",
   "metadata": {},
   "source": [
    "По данному числу n вычислите сумму (1 / 1²)+(1 / 2²)+(1 / 3²)+...+(1 / n²)."
   ]
  },
  {
   "cell_type": "code",
   "execution_count": null,
   "id": "e80083df",
   "metadata": {},
   "outputs": [],
   "source": [
    "n = int(input())\n",
    "i = 1\n",
    "q = 0\n",
    "d = 0\n",
    "s = 0\n",
    "\n",
    "whilei <= n:\n",
    "    q = i ** 2\n",
    "    d = 1 / q\n",
    "    s += d\n",
    "    i += 1\n",
    "print('{0:.5f}'.format(s))"
   ]
  },
  {
   "cell_type": "code",
   "execution_count": null,
   "id": "8c2ea423",
   "metadata": {},
   "outputs": [],
   "source": [
    "import math\n",
    "\n",
    "print(int(2.5), int(3.5), int(- 2.5))# округление В СТОРОНУ НУЛЯ\n",
    "print(math.floor(2.5), math.floor(3.5), math.floor(- 2.5))# округление В МЕНЬШУЮ СТОРОНУ\n",
    "print(math.ceil(2.5), math.ceil(3.5), math.ceil(- 2.5))# округление В БОЛЬШУЮ СТОРОНУ\n",
    "print(round(2.5), round(3.5), round(- 2.5))# округление В СТОРОНУ БЛИЖАЙШЕГО ЧЕТНОГО ЧИСЛА в случае .5, в остальных как и надо в математике"
   ]
  },
  {
   "cell_type": "code",
   "execution_count": null,
   "id": "35eec0f7",
   "metadata": {},
   "outputs": [],
   "source": [
    "import math # просто импорт библиотеки\n",
    "# в этом случае каждый разный нужно писать math.функция\n",
    "from math import ..., ..., ..., ... # импорт функций из библиотеки\n",
    "# в этом случае просто пишем названия функций без math.\n",
    "from math import * # импорт всех функций из библиотеки для использвоания их без math."
   ]
  },
  {
   "cell_type": "markdown",
   "id": "50ac06f8",
   "metadata": {},
   "source": [
    "Дано положительное действительное число X. Выведите его дробную часть."
   ]
  },
  {
   "cell_type": "code",
   "execution_count": null,
   "id": "e41e4850",
   "metadata": {},
   "outputs": [],
   "source": [
    "import math\n",
    "n = float(input())\n",
    "ifn >= 0:\n",
    "    c = (n - math.floor(n))\n",
    "else:\n",
    "    c = (n - math.ceil(n))\n",
    "print(c)"
   ]
  },
  {
   "cell_type": "markdown",
   "id": "67e2e981",
   "metadata": {},
   "source": [
    "Цена товара обозначена в рублях с точностью до копеек, то есть действительным числом с двумя цифрами после десятичной точки. Запишите в две целочисленные переменные стоимость товара в виде целого числа рублей и целого числа копеек и выведите их на экран. При решении этой задачи нельзя пользоваться условными инструкциями и циклами."
   ]
  },
  {
   "cell_type": "code",
   "execution_count": null,
   "id": "a69838cb",
   "metadata": {},
   "outputs": [],
   "source": [
    "import math\n",
    "p = float(input())\n",
    "\n",
    "r = math.floor(p)\n",
    "k = round((p - r) * 100) # раунд потому что число изначально флоут и при выводе он дает дробное число, а надо точное\n",
    "print(r, k)"
   ]
  },
  {
   "cell_type": "markdown",
   "id": "f5b8b907",
   "metadata": {},
   "source": [
    "По российский правилам числа округляются до ближайшего целого числа,а если дробная часть числа равна 0.5, то число округляется вверх. Дано неотрицательное число x, округлите его по этим правилам. Обратите внимание, что функция round не годится для этой задачи!"
   ]
  },
  {
   "cell_type": "code",
   "execution_count": null,
   "id": "0516d398",
   "metadata": {},
   "outputs": [],
   "source": [
    "importmath\n",
    "x = float(input())\n",
    "d_less = x - math.floor(x)\n",
    "d_more = math.ceil(x) - x\n",
    "if d_less < d_more:\n",
    "    x = math.floor(x)\n",
    "else:\n",
    "    x = math.ceil(x)\n",
    "print(x)"
   ]
  },
  {
   "cell_type": "code",
   "execution_count": null,
   "id": "de33460a",
   "metadata": {},
   "outputs": [],
   "source": [
    "m = (x * 100 + y) * ((100 + p) / 100)\n",
    "f = (0 ** int(math.sqrt((50 - math.floor(m * 100) % 100) ** 2)))\n",
    "mod = math.sqrt(p ** 2)\n",
    "sign = int(p / mod)\n",
    "n = m * sign\n",
    "r = sign * math.floor(n // 100)\n",
    "k = round(n % 100) + f\n",
    "print(r, k)"
   ]
  },
  {
   "cell_type": "markdown",
   "id": "355338a7",
   "metadata": {},
   "source": [
    "Процентная ставка по вкладу составляет P процентов годовых, которые прибавляются к сумме вклада через год. Вклад составляет X рублей Y копеек. Определите размер вклада через K лет."
   ]
  },
  {
   "cell_type": "code",
   "execution_count": null,
   "id": "3dd5a6da",
   "metadata": {},
   "outputs": [],
   "source": [
    "frommathimportfloor\n",
    "p = int(input())\n",
    "x = int(input())\n",
    "y = int(input())\n",
    "k = int(input())\n",
    "i = 0\n",
    "s = x * 100 + y\n",
    "s0 = 0\n",
    "while i < k:\n",
    "    s0 = s + s * p / 100\n",
    "    x = int(s0 // 100)\n",
    "    y = int(s0 % 100)\n",
    "    s = x * 100 + y\n",
    "    i += 1\n",
    "print(x, y)"
   ]
  },
  {
   "cell_type": "markdown",
   "id": "fd8498ae",
   "metadata": {},
   "source": [
    "Дан многочлен P(x) = a[n] xⁿ+a[n-1] xⁿ⁻¹+...+a[1] x+a[0] и число x. Вычислите значение этого многочлена, воспользовавшись схемой Горнера:\n",
    "\n",
    "P(x) = ( ... ( ( ( a[n] x + a[n-1] ) x + a[n-2] ) x + a[n-3] ) ... ) x + a[0]"
   ]
  },
  {
   "cell_type": "code",
   "execution_count": null,
   "id": "dca67560",
   "metadata": {},
   "outputs": [],
   "source": [
    "n = int(input())\n",
    "x = float(input())\n",
    "p = 0\n",
    "i = 0\n",
    "while i <= n:\n",
    "    p = p * x + float(input())\n",
    "    i += 1\n",
    "print(p)"
   ]
  },
  {
   "cell_type": "markdown",
   "id": "fdf8bb4e",
   "metadata": {},
   "source": [
    "Дана последовательность натуральных чисел x₁, x₂ ..., xn. Стандартным отклонением называется величина\n",
    "\n",
    "σ=sqrt(((x₁-s)²+(x₂-s)²+…+(xn-s)²) / (n-1))\n",
    "\n",
    "где s = ((x₁+x₂+…+xn) / n) — среднее арифметическое последовательности, а sqrt - квадратный корень. Определите стандартное отклонение для данной последовательности натуральных чисел, завершающейся числом 0."
   ]
  },
  {
   "cell_type": "code",
   "execution_count": null,
   "id": "d74d0961",
   "metadata": {},
   "outputs": [],
   "source": [
    "import math\n",
    "x = int(input())\n",
    "summa = 0\n",
    "sumkvadr = 0\n",
    "n = 0\n",
    "s = 0\n",
    "d = 0\n",
    "q = 0\n",
    "while x != 0:\n",
    "    n += 1\n",
    "    summa += x\n",
    "    s = summa / n\n",
    "    sumkvadr += x ** 2\n",
    "    x = int(input())\n",
    "q = math.sqrt((sumkvadr - summa ** 2 / n)/(n-1))\n",
    "print(q)"
   ]
  },
  {
   "cell_type": "markdown",
   "id": "ad549b8a",
   "metadata": {},
   "source": [
    "Даны действительные коэффициенты a, b, c, при этом a != 0. Решите квадратное уравнение ax²+bx+c=0 и выведите все его корни."
   ]
  },
  {
   "cell_type": "code",
   "execution_count": null,
   "id": "a28f68b3",
   "metadata": {},
   "outputs": [],
   "source": [
    "import math\n",
    "a = float(input())\n",
    "b = float(input())\n",
    "c = float(input())\n",
    "D = b ** 2 - 4 * a * c\n",
    "if D > 0:\n",
    "    x1 = (- b + math.sqrt(D)) / (2 * a)\n",
    "    x2 = (- b - math.sqrt(D)) / (2 * a)\n",
    "    if x1 > x2:\n",
    "        print(x2, x1)\n",
    "    else:\n",
    "        print(x1, x2)\n",
    "elif D == 0:\n",
    "    x1 = - b / (2 * a)\n",
    "    print(x1)"
   ]
  },
  {
   "cell_type": "markdown",
   "id": "ad32f905",
   "metadata": {},
   "source": [
    "Даны произвольные действительные коэффициенты a, b, c. Решите уравнение ax²+bx+c=0."
   ]
  },
  {
   "cell_type": "code",
   "execution_count": null,
   "id": "5f714b08",
   "metadata": {},
   "outputs": [],
   "source": [
    "import math\n",
    "a = float(input())\n",
    "b = float(input())\n",
    "c = float(input())\n",
    "D = b ** 2 - 4 * a * c\n",
    "if a == 0:\n",
    "    if b == 0 and c == 0:\n",
    "        print(3)\n",
    "    elif b == 0 and c != 0:\n",
    "        print(0)\n",
    "    elif b != 0:\n",
    "        x1 = - c / b\n",
    "        print(1, x1)\n",
    "elif D > 0:\n",
    "    x1 = (- b + math.sqrt(D)) / (2 * a)\n",
    "    x2 = (- b - math.sqrt(D)) / (2 * a)\n",
    "    if x1 > x2:\n",
    "        print(2, x2, x1)\n",
    "    else:\n",
    "        print(2, x1, x2)\n",
    "elif D == 0:\n",
    "    x1 = - b / (2 * a)\n",
    "    print(1, x1)\n",
    "elif D < 0:\n",
    "    print(0)"
   ]
  },
  {
   "cell_type": "markdown",
   "id": "f99d3f1d",
   "metadata": {},
   "source": [
    "Даны вещественные числа a, b, c, d, e, f. Известно, что система линейных уравнений:\n",
    "ax + by = e\n",
    "cx + dy = f \n",
    "имеет ровно одно решение. Выведите два числа x и y, являющиеся решением этой системы."
   ]
  },
  {
   "cell_type": "code",
   "execution_count": null,
   "id": "0702fe93",
   "metadata": {},
   "outputs": [],
   "source": [
    "a = float(input())\n",
    "b = float(input())\n",
    "c = float(input())\n",
    "d = float(input())\n",
    "e = float(input())\n",
    "f = float(input())\n",
    "if a == 0 and d == 0:\n",
    "    x = f / c\n",
    "    y = e / b\n",
    "elif a == 0 and d != 0:\n",
    "    y = e / b\n",
    "    x = (f - d * e / b) / c\n",
    "elif a != 0 and d == 0:\n",
    "    x = f / c\n",
    "    y = (e - a * f / c) / b\n",
    "elif b == 0 and c == 0:\n",
    "    x = e / a\n",
    "    y = f / d\n",
    "elif b == 0 and c != 0:\n",
    "    x = e / a\n",
    "    y = (f - c * e / a) / d\n",
    "elif b != 0 and c == 0:\n",
    "    y = f / d\n",
    "    x = (e - b * f / d) / a\n",
    "elif a != 0 and b != 0 and c != 0 and d != 0:\n",
    "    x = (f * b - d * e) / (c * b - a * d)\n",
    "    y = (e - a * x) / b\n",
    "print(x, y)"
   ]
  },
  {
   "cell_type": "markdown",
   "id": "121939dd",
   "metadata": {},
   "source": [
    "Дана строка. Если в этой строке буква f встречается только один раз, выведите её индекс. Если она встречается два и более раз, выведите индекс её первого и последнего появления. Если буква f в данной строке не встречается, ничего не выводите. При решении этой задачи нельзя использовать метод count и циклы."
   ]
  },
  {
   "cell_type": "code",
   "execution_count": null,
   "id": "76bef8b4",
   "metadata": {},
   "outputs": [],
   "source": [
    "s = input()\n",
    "r = s[::-1]\n",
    "pos_s = s.find('f')\n",
    "pos_r = r.find('f')\n",
    "\n",
    "if pos_s != -1 and pos_s + pos_r + 1 == len(s):\n",
    "    print(pos_s)\n",
    "elif pos_s != -1 and pos_s + pos_r != len(s) + 1:\n",
    "    print(pos_s)\n",
    "    print(len(s) - 1 - pos_r)"
   ]
  },
  {
   "cell_type": "markdown",
   "id": "17751ac6",
   "metadata": {},
   "source": [
    "Удаление фрагмента из строки между двумя буквами включительно"
   ]
  },
  {
   "cell_type": "code",
   "execution_count": null,
   "id": "dd3b745a",
   "metadata": {},
   "outputs": [],
   "source": [
    "s = input()\n",
    "r = s[::-1]\n",
    "pos_s = s.find('h')\n",
    "pos_r = r.find('h')\n",
    "s1 = s[:pos_s]\n",
    "if pos_r != 0:\n",
    "    r1 = s[- pos_r:]\n",
    "    print(s1 + r1)\n",
    "else:\n",
    "    print(s1)"
   ]
  },
  {
   "cell_type": "markdown",
   "id": "6acb4b28",
   "metadata": {},
   "source": [
    "Вставка символов * между буквами"
   ]
  },
  {
   "cell_type": "code",
   "execution_count": null,
   "id": "ab706564",
   "metadata": {},
   "outputs": [],
   "source": [
    "s = input()\n",
    "i = 0\n",
    "ans = \"\"\n",
    "while i != len(s):\n",
    "    ans += s[i]\n",
    "    if i != len(s) - 1:\n",
    "        ans += '*'\n",
    "    i += 1\n",
    "print(ans)"
   ]
  },
  {
   "cell_type": "markdown",
   "id": "6336c05a",
   "metadata": {},
   "source": [
    "Минимум 4-х чисел"
   ]
  },
  {
   "cell_type": "code",
   "execution_count": null,
   "id": "99cc14d5",
   "metadata": {},
   "outputs": [],
   "source": [
    "def mini(a, b, c, d):\n",
    "    result = min(min(a, b), min(c, d))\n",
    "    return result\n",
    "print(mini(input(), input(), input(), input()))"
   ]
  },
  {
   "cell_type": "markdown",
   "id": "44059225",
   "metadata": {},
   "source": [
    "Сумма двух чисел при помощи рекурсии"
   ]
  },
  {
   "cell_type": "code",
   "execution_count": null,
   "id": "a6f31794",
   "metadata": {},
   "outputs": [],
   "source": [
    "def sum(a, b):\n",
    "    if b == 0:\n",
    "        return a\n",
    "    return a + sum(1, b - 1)\n",
    "\n",
    "\n",
    "a = int(input())\n",
    "b = int(input())\n",
    "print(sum(a, b))"
   ]
  },
  {
   "cell_type": "markdown",
   "id": "065cc217",
   "metadata": {},
   "source": [
    "Быстрое возведение в степень"
   ]
  },
  {
   "cell_type": "code",
   "execution_count": null,
   "id": "c69ea198",
   "metadata": {},
   "outputs": [],
   "source": [
    "def power(a, n):\n",
    "    if n == 0:\n",
    "        return 1\n",
    "    if n % 2 == 0:\n",
    "        if n / 2 == 1:\n",
    "            return a ** 2\n",
    "        return power(a ** 2, n / 2)\n",
    "    else:\n",
    "        if n == 1:\n",
    "            return a\n",
    "        return a * power(a, n - 1)\n",
    "\n",
    "\n",
    "a = int(input())\n",
    "n = int(input())\n",
    "print(power(a, n))"
   ]
  },
  {
   "cell_type": "markdown",
   "id": "1a17da1a",
   "metadata": {},
   "source": [
    "Поиск НОД"
   ]
  },
  {
   "cell_type": "code",
   "execution_count": null,
   "id": "57660551",
   "metadata": {},
   "outputs": [],
   "source": [
    "def gcd(a, b):\n",
    "    if b == 0:\n",
    "        return a\n",
    "    return gcd(b, a % b)\n",
    "\n",
    "\n",
    "a = float(input())\n",
    "b = int(input())\n",
    "print(int(gcd(a, b)))"
   ]
  },
  {
   "cell_type": "markdown",
   "id": "a2940f1d",
   "metadata": {},
   "source": [
    "Сокращение чисел"
   ]
  },
  {
   "cell_type": "code",
   "execution_count": null,
   "id": "6b59f9ed",
   "metadata": {},
   "outputs": [],
   "source": [
    "def gcd(a, b):\n",
    "    if b == 0:\n",
    "        return a\n",
    "    return gcd(b, a % b)\n",
    "\n",
    "\n",
    "def ReduceFraction(n, m):\n",
    "    p = int(n / gcd(n, m))\n",
    "    q = int(m / gcd(n, m))\n",
    "    return p, q\n",
    "\n",
    "\n",
    "n = int(input())\n",
    "m = int(input())\n",
    "print(*ReduceFraction(n, m))"
   ]
  },
  {
   "cell_type": "markdown",
   "id": "20d8b0cb",
   "metadata": {},
   "source": [
    "Поиск числа фибоначчи по номеру (нумерация начинается с 1)"
   ]
  },
  {
   "cell_type": "code",
   "execution_count": null,
   "id": "c68e7105",
   "metadata": {},
   "outputs": [],
   "source": [
    "def phib(n):\n",
    "    if n == 1 or n == 2:\n",
    "        return 1\n",
    "    return phib(n - 1) + phib(n - 2)\n",
    "\n",
    "\n",
    "n = int(input())\n",
    "print(phib(n))"
   ]
  },
  {
   "cell_type": "markdown",
   "id": "e9d5c6b2",
   "metadata": {},
   "source": [
    "Число сочетаний"
   ]
  },
  {
   "cell_type": "code",
   "execution_count": null,
   "id": "770c5772",
   "metadata": {},
   "outputs": [],
   "source": [
    "def C(n, k):\n",
    "    if k == 0:\n",
    "        return 1\n",
    "    elif k == 1:\n",
    "        return n\n",
    "    elif n == k:\n",
    "        return 1\n",
    "    return C(n - 1, k) + C(n - 1, k - 1)\n",
    "\n",
    "\n",
    "n = int(input())\n",
    "k = int(input())\n",
    "print(C(n, k))"
   ]
  },
  {
   "cell_type": "markdown",
   "id": "80ede613",
   "metadata": {},
   "source": [
    "Разворот последовательности чисел в обратную стороноу"
   ]
  },
  {
   "cell_type": "code",
   "execution_count": null,
   "id": "d36cf8cc",
   "metadata": {},
   "outputs": [],
   "source": [
    "def C():\n",
    "    n = int(input())\n",
    "    if n != 0:\n",
    "        C()\n",
    "        print(n)\n",
    "    else:\n",
    "        print(0)\n",
    "\n",
    "\n",
    "C()"
   ]
  },
  {
   "cell_type": "markdown",
   "id": "1226e7f7",
   "metadata": {},
   "source": [
    "Факториал от числа"
   ]
  },
  {
   "cell_type": "code",
   "execution_count": null,
   "id": "f406a12e",
   "metadata": {},
   "outputs": [],
   "source": [
    "def factorial(n):\n",
    "    if n == 0:\n",
    "        return 1\n",
    "    return n * factorial(n - 1)"
   ]
  },
  {
   "cell_type": "markdown",
   "id": "509b718b",
   "metadata": {},
   "source": [
    "Напечатать все палиндромы от числа а до числа б"
   ]
  },
  {
   "cell_type": "code",
   "execution_count": null,
   "id": "bc0ccabd",
   "metadata": {},
   "outputs": [],
   "source": [
    "A = int(input())\n",
    "B = int(input())\n",
    "\n",
    "for i in range(A,B + 1):\n",
    "    sign1 = i % 10\n",
    "    sign10 = (i // 10) % 10\n",
    "    sign100 = (i // 100) % 10\n",
    "    sign1000 = (i // 1000) % 10\n",
    "    if sign1 - sign1000 == 0 and sign10 - sign100 == 0:\n",
    "        print(i)"
   ]
  },
  {
   "cell_type": "markdown",
   "id": "4a36d53c",
   "metadata": {},
   "source": [
    "Проверяет наличие двух чисел одного знака в списке чисел, и возвращает первое вхождение"
   ]
  },
  {
   "cell_type": "code",
   "execution_count": null,
   "id": "4aae4b56",
   "metadata": {},
   "outputs": [],
   "source": [
    "def from_string_to_int_list(string):\n",
    "    string_list = string.split()\n",
    "    int_list = []\n",
    "    for i in string_list:\n",
    "        int_list.append(int(i))\n",
    "    return int_list\n",
    "\n",
    "\n",
    "spisok = input()\n",
    "int_list = from_string_to_int_list(spisok)\n",
    "i = 0\n",
    "while i <= len(int_list) - 2:\n",
    "    if int_list[i] * int_list[i + 1] > 0:\n",
    "        print(int_list[i], int_list[i + 1])\n",
    "        break\n",
    "    else:\n",
    "        i += 1"
   ]
  },
  {
   "cell_type": "markdown",
   "id": "a3ddfb84",
   "metadata": {},
   "source": [
    "Вывод трех чисел, чье произведение максимально"
   ]
  },
  {
   "cell_type": "code",
   "execution_count": null,
   "id": "7f0a6042",
   "metadata": {},
   "outputs": [],
   "source": [
    "nums = list(map(int, input().split()))\n",
    "three_maxs = []\n",
    "two_mins = []\n",
    "nums_1 = []\n",
    "if len(nums) == 3:\n",
    "    print(*nums)\n",
    "elif max(nums) <= 0:\n",
    "    nums_1 = nums[::]\n",
    "    for i in (0, 1, 2):\n",
    "        three_maxs.insert(0, nums_1.pop(nums_1.index(max(nums_1))))\n",
    "    print(*three_maxs)\n",
    "else:\n",
    "    nums_1 = nums[::]\n",
    "    for i in (0, 1, 2):\n",
    "        three_maxs.insert(0, nums_1.pop(nums_1.index(max(nums_1))))\n",
    "    nums_1 = nums[::]\n",
    "    for i in (0, 1):\n",
    "        two_mins.append(nums_1.pop(nums_1.index(min(nums_1))))\n",
    "\n",
    "    if three_maxs[0] * three_maxs[1] > two_mins[0] * two_mins[1]:\n",
    "        print(*three_maxs)\n",
    "    else:\n",
    "        print(*two_mins, three_maxs[-1])"
   ]
  },
  {
   "cell_type": "markdown",
   "id": "8646acb3",
   "metadata": {},
   "source": [
    "Выборы партии"
   ]
  },
  {
   "cell_type": "code",
   "execution_count": null,
   "id": "1b65f78e",
   "metadata": {},
   "outputs": [],
   "source": [
    "inFile = open('input.txt', 'r', encoding='utf-8')\n",
    "count_votes = []\n",
    "parties = []\n",
    "\n",
    "for line in inFile:\n",
    "    if line == 'PARTIES:\\n':\n",
    "        continue\n",
    "    elif line == 'VOTES:\\n':\n",
    "        break\n",
    "    parties.append(line.strip())\n",
    "    count_votes.append(0)\n",
    "\n",
    "for line in inFile:\n",
    "    count_votes[parties.index(line.strip())] += 1\n",
    "\n",
    "\n",
    "i = 0\n",
    "while i < len(count_votes):\n",
    "    share = int(count_votes[i] * 100 / sum(count_votes))\n",
    "    if share >= 7:\n",
    "        print(parties[i])\n",
    "    i += 1"
   ]
  },
  {
   "cell_type": "code",
   "execution_count": null,
   "id": "3ccbb8da",
   "metadata": {},
   "outputs": [],
   "source": [
    "inFile = open('input.txt', 'r', encoding='utf-8')\n",
    "count_votes = []\n",
    "parties = []\n",
    "\n",
    "for line in inFile:\n",
    "    if line == 'PARTIES:\\n':\n",
    "        continue\n",
    "    elif line == 'VOTES:\\n':\n",
    "        break\n",
    "    parties.append(line.strip())\n",
    "    count_votes.append(0)\n",
    "\n",
    "for line in inFile:\n",
    "    count_votes[parties.index(line.strip())] += 1\n",
    "shares = [0] * len(count_votes)\n",
    "\n",
    "i = 0\n",
    "while i < len(count_votes):\n",
    "    shares[i] = (count_votes[i] * 100 / sum(count_votes))\n",
    "    parties[i] = [parties[i], shares[i]]\n",
    "    i += 1\n",
    "\n",
    "shares.sort()\n",
    "parties.sort(key=lambda x: x[-1])\n",
    "\n",
    "i = 0\n",
    "while i < len(parties):\n",
    "    parties[i] = parties[i][0]\n",
    "    i += 1\n",
    "\n",
    "result = []\n",
    "while shares:\n",
    "    biggest = max(shares)\n",
    "    if shares.count(biggest) == 1:\n",
    "        shares.pop()\n",
    "        result.append(parties.pop())\n",
    "    else:\n",
    "        compare = []\n",
    "        while shares.count(biggest) != 0:\n",
    "            shares.pop()\n",
    "            compare.append(parties.pop())\n",
    "        compare.sort()\n",
    "        result += compare\n",
    "\n",
    "\n",
    "for party in result:\n",
    "    print(party)"
   ]
  },
  {
   "cell_type": "code",
   "execution_count": null,
   "id": "79bf074d",
   "metadata": {},
   "outputs": [],
   "source": [
    "fin = open('input.txt')\n",
    "phone_numbers = []\n",
    "\n",
    "for line in fin:\n",
    "    phone_number = []\n",
    "    phone = line.split()\n",
    "    for n in phone:\n",
    "        signs = list(n)\n",
    "        for sign in signs:\n",
    "            phone_number.append(sign)\n",
    "    phone_numbers.append(phone_number)\n",
    "\n",
    "for i in range(len(phone_numbers)):\n",
    "    for sign in phone_numbers[i]:\n",
    "        if sign in deletables:\n",
    "            phone_numbers[i].remove(sign)\n",
    "    if len(phone_numbers[i]) < 11:\n",
    "        phone_numbers[i] = ['8', '4', '9', '5'] + phone_numbers[i]\n",
    "    phone_numbers[i][0] = '8'\n",
    "\n",
    "for number in phone_numbers[1:]:\n",
    "    if number == phone_numbers[0]:\n",
    "        print('YES')\n",
    "    else:\n",
    "        print('NO')"
   ]
  },
  {
   "cell_type": "code",
   "execution_count": null,
   "id": "2ae9aeff",
   "metadata": {},
   "outputs": [],
   "source": [
    "from itertools import permutations\n",
    "from functools import reduce\n",
    "print(*map(lambda x: reduce(lambda y, z: f'{y}{z}', x), permutations(range(1, int(input()) + 1))), sep='\\n')"
   ]
  },
  {
   "cell_type": "markdown",
   "id": "e6e15cbb",
   "metadata": {},
   "source": [
    "По данному числу N выведите все перестановки чисел от 1 до N в лексикографическом порядке.\n",
    "\n",
    "Формат ввода\n",
    "Задано 1 число: N (0<N<10).\n",
    "\n",
    "Формат вывода\n",
    "Необходимо вывести все перестановки чисел от 1 до N в лексикографическом порядке. Перестановки выводятся по одной в строке, числа в перестановке выводятся без пробелов."
   ]
  },
  {
   "cell_type": "code",
   "execution_count": null,
   "id": "e3b4ee2e",
   "metadata": {},
   "outputs": [],
   "source": []
  }
 ],
 "metadata": {
  "kernelspec": {
   "display_name": "Python 3 (ipykernel)",
   "language": "python",
   "name": "python3"
  },
  "language_info": {
   "codemirror_mode": {
    "name": "ipython",
    "version": 3
   },
   "file_extension": ".py",
   "mimetype": "text/x-python",
   "name": "python",
   "nbconvert_exporter": "python",
   "pygments_lexer": "ipython3",
   "version": "3.9.7"
  }
 },
 "nbformat": 4,
 "nbformat_minor": 5
}
