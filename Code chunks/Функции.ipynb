{
 "cells": [
  {
   "cell_type": "markdown",
   "id": "67dfc928",
   "metadata": {},
   "source": [
    "Перевод строки в список целых чисел"
   ]
  },
  {
   "cell_type": "code",
   "execution_count": 1,
   "id": "f736ffc6",
   "metadata": {},
   "outputs": [],
   "source": [
    "def from_string_to_int_list(string):\n",
    "    string_list = string.split()\n",
    "    int_list = []\n",
    "    for i in string_list:\n",
    "        int_list.append(int(i))\n",
    "    return int_list"
   ]
  },
  {
   "cell_type": "markdown",
   "id": "2a563c43",
   "metadata": {},
   "source": [
    "Объединение двух списков с сортировкой"
   ]
  },
  {
   "cell_type": "code",
   "execution_count": 2,
   "id": "4302835d",
   "metadata": {},
   "outputs": [],
   "source": [
    "def merge(a, b):\n",
    "    if max(a) < max(b):\n",
    "        a, b = b, a\n",
    "    nums = []\n",
    "    i = 0\n",
    "    k = 0\n",
    "    while i < len(a) and k < len(b):\n",
    "        if a[i] < b[k]:\n",
    "            nums.append(a[i])\n",
    "            i += 1\n",
    "        elif a[i] == b[k]:\n",
    "            nums.append(a[i])\n",
    "            nums.append(b[k])\n",
    "            i += 1\n",
    "            k += 1\n",
    "        else:\n",
    "            nums.append(b[k])\n",
    "            k += 1\n",
    "        if k == len(b) and a[-1] != b[-1]:\n",
    "            nums.append(a[i])\n",
    "    nums.extend(a[i + 1:])"
   ]
  },
  {
   "cell_type": "markdown",
   "id": "e8bf2471",
   "metadata": {},
   "source": [
    "Сортировка списка рекурсией"
   ]
  },
  {
   "cell_type": "code",
   "execution_count": 3,
   "id": "4b05e0fd",
   "metadata": {},
   "outputs": [],
   "source": [
    "def sorting(arr):\n",
    "    left = []\n",
    "    right = []\n",
    "    if len(arr) == 2:\n",
    "        if arr[0] > arr[1]:\n",
    "            arr[0], arr[1] = arr[1], arr[0]\n",
    "        return arr\n",
    "    elif len(arr) <= 1:\n",
    "        return arr\n",
    "    else:\n",
    "        op_chislo = arr.pop(2)\n",
    "        for num in arr:\n",
    "            if num > op_chislo:\n",
    "                right.append(num)\n",
    "            else:\n",
    "                left.append(num)\n",
    "        return sorting(left) + [op_chislo] + sorting(right)"
   ]
  },
  {
   "cell_type": "markdown",
   "id": "0bad72ed",
   "metadata": {},
   "source": [
    "Сортировка списка с прикрепленными к нему изначальными индексами"
   ]
  },
  {
   "cell_type": "code",
   "execution_count": 4,
   "id": "96d8b30a",
   "metadata": {},
   "outputs": [],
   "source": [
    "def sorted_numbered_list(arr, sdvig=0):\n",
    "    numbered_arr = []\n",
    "    for ind in range(len(arr)):\n",
    "        numbered_arr.append((arr[ind], ind + sdvig))\n",
    "\n",
    "    numbered_arr.sort()\n",
    "    return numbered_arr"
   ]
  },
  {
   "cell_type": "markdown",
   "id": "60e1c408",
   "metadata": {},
   "source": [
    "Реализуйте класс Matrix. Он должен содержать:\n",
    "\n",
    " Конструктор от списка списков. Гарантируется, что списки состоят из чисел, не пусты и все имеют одинаковый размер. Конструктор должен копировать содержимое списка списков, т. е. при изменении списков, от которых была сконструирована матрица, содержимое матрицы изменяться не должно.\n",
    "\n",
    " Метод __str__, переводящий матрицу в строку. При этом элементы внутри одной строки должны быть разделены знаками табуляции, а строки  —  переносами строк. После каждой строки не должно быть символа табуляции и в конце не должно быть переноса строки.\n",
    "\n",
    " Метод size без аргументов, возвращающий кортеж вида (число строк, число столбцов). Пример теста с участием этого метода есть в следующей задаче этой недели."
   ]
  },
  {
   "cell_type": "code",
   "execution_count": 1,
   "id": "75c7ba5f",
   "metadata": {},
   "outputs": [],
   "source": [
    "import copy\n",
    "\n",
    "\n",
    "class Matrix:\n",
    "    def __init__(self, list_of_lists):\n",
    "        self.list_of_lists = copy.deepcopy(list_of_lists)\n",
    "\n",
    "    def __str__(self):\n",
    "        spisok_spiskov = ''\n",
    "        for i in range(len(self.list_of_lists)):\n",
    "            spisok = '\\t'.join(map(str, self.list_of_lists[i]))\n",
    "            spisok_spiskov += spisok + '\\n'\n",
    "        return spisok_spiskov[:-1]\n",
    "\n",
    "    def size(self):\n",
    "        return len(self.list_of_lists), len(self.list_of_lists[0])\n",
    "\n"
   ]
  },
  {
   "cell_type": "markdown",
   "id": "53b4e683",
   "metadata": {},
   "source": [
    "Добавьте в предыдущий класс следующие методы:\n",
    "\n",
    " __add__, принимающий вторую матрицу того же размера и возвращающий сумму матриц.\n",
    "\n",
    " __mul__, принимающий число типа int или float и возвращающий матрицу, умноженную на скаляр.\n",
    "\n",
    " __rmul__, делающий то же самое, что и __mul__. Этот метод будет вызван в том случае, аргумент находится справа. Для реализации этого метода в коде класса достаточно написать __rmul__ = __mul__."
   ]
  },
  {
   "cell_type": "code",
   "execution_count": 2,
   "id": "46e52f14",
   "metadata": {},
   "outputs": [],
   "source": [
    "class Matrix:\n",
    "    def __init__(self, list_of_lists):\n",
    "        self.list_of_lists = copy.deepcopy(list_of_lists)\n",
    "\n",
    "    def __str__(self):\n",
    "        spisok_spiskov = ''\n",
    "        for i in range(len(self.list_of_lists)):\n",
    "            spisok = '\\t'.join(map(str, self.list_of_lists[i]))\n",
    "            spisok_spiskov += spisok + '\\n'\n",
    "        return spisok_spiskov[:-1]\n",
    "\n",
    "    def size(self):\n",
    "        return len(self.list_of_lists), len(self.list_of_lists[0])\n",
    "\n",
    "    def __add__(self, other):\n",
    "        sum_list = []\n",
    "        for i in range(len(self.list_of_lists)):\n",
    "            sum_line = len(self.list_of_lists[i]) * [[]]\n",
    "            list_line = self.list_of_lists[i]\n",
    "            other_line = other.list_of_lists[i]\n",
    "            for k in range(len(self.list_of_lists[i])):\n",
    "                sum_line[k] = list_line[k] + other_line[k]\n",
    "            sum_list.append(sum_line)\n",
    "        return Matrix(sum_list)\n",
    "\n",
    "    def __mul__(self, other):\n",
    "        mult_list = []\n",
    "        for i in range(len(self.list_of_lists)):\n",
    "            mult_line = []\n",
    "            list_line = self.list_of_lists[i]\n",
    "            for k in range(len(self.list_of_lists[i])):\n",
    "                mult_line.append(list_line[k] * other)\n",
    "            mult_list.append(mult_line)\n",
    "        return Matrix(mult_list)\n",
    "\n",
    "    def __rmul__(self, other):\n",
    "        mult_list = []\n",
    "        for i in range(len(self.list_of_lists)):\n",
    "            mult_line = []\n",
    "            list_line = self.list_of_lists[i]\n",
    "            for k in range(len(self.list_of_lists[i])):\n",
    "                mult_line.append(list_line[k] * other)\n",
    "            mult_list.append(mult_line)\n",
    "        return Matrix(mult_list)"
   ]
  },
  {
   "cell_type": "code",
   "execution_count": null,
   "id": "4cad82f4",
   "metadata": {},
   "outputs": [],
   "source": []
  }
 ],
 "metadata": {
  "kernelspec": {
   "display_name": "Python 3 (ipykernel)",
   "language": "python",
   "name": "python3"
  },
  "language_info": {
   "codemirror_mode": {
    "name": "ipython",
    "version": 3
   },
   "file_extension": ".py",
   "mimetype": "text/x-python",
   "name": "python",
   "nbconvert_exporter": "python",
   "pygments_lexer": "ipython3",
   "version": "3.9.7"
  }
 },
 "nbformat": 4,
 "nbformat_minor": 5
}
